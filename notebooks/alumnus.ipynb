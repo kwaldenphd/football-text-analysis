{
 "cells": [
  {
   "cell_type": "markdown",
   "metadata": {},
   "source": [
    "# Downloading Notre Dame Alumnus PDFs\n",
    "\n",
    "From the [University Archives](http://archives.nd.edu/digital/):\n",
    "- \"The Alumnus, published by the Alumni Association from January of 1923 until December of 1971, provided news and feature articles of interest to Notre Dame graduates. Notre Dame Magazine replaced it starting in 1972.\"\n",
    "- [Alumnus Digital Collection](http://archives.nd.edu/Alumnus/)\n",
    "\n",
    "This Jupyter Notebook inclues codes + comments that downloads all PDFs of *The Alumnus*, and also matches volume and issue names to file names."
   ]
  },
  {
   "cell_type": "markdown",
   "metadata": {},
   "source": [
    "# Import Libraries, Load URL, and Create Beautiful Soup Object"
   ]
  },
  {
   "cell_type": "code",
   "execution_count": null,
   "metadata": {},
   "outputs": [],
   "source": [
    "# import libraries\n",
    "import os\n",
    "import requests\n",
    "from urllib.parse import urljoin\n",
    "from bs4 import BeautifulSoup\n",
    "import csv"
   ]
  },
  {
   "cell_type": "code",
   "execution_count": null,
   "metadata": {},
   "outputs": [],
   "source": [
    "# load url, create beautifulsoup object\n",
    "page = requests.get('http://archives.nd.edu/Alumnus/Alumnus.htm')\n",
    "\n",
    "soup = BeautifulSoup(page.text, 'html.parser')\n",
    "\n",
    "# isolate HTML with 'ol' tag\n",
    "url_names = soup.find('ol')\n",
    "\n",
    "# find all instances of 'a' tag\n",
    "items = url_names.find_all('a')\n",
    "\n",
    "items"
   ]
  },
  {
   "cell_type": "markdown",
   "metadata": {},
   "source": [
    "# Get List of Volume Links and Volume Names"
   ]
  },
  {
   "cell_type": "code",
   "execution_count": null,
   "metadata": {},
   "outputs": [],
   "source": [
    "# create empty lists for volume links and file names\n",
    "href_list = []\n",
    "\n",
    "file_name_list = []\n",
    "\n",
    "# for loop that isolates href contents and file names and appends to empty lists\n",
    "for thing in items:\n",
    "    links = thing.get('href')\n",
    "    href_list.append(links)\n",
    "    name_list = thing.contents[0]\n",
    "    file_name_list.append(name_list)"
   ]
  },
  {
   "cell_type": "code",
   "execution_count": null,
   "metadata": {},
   "outputs": [],
   "source": [
    "# list of volume URLS\n",
    "href_list"
   ]
  },
  {
   "cell_type": "code",
   "execution_count": null,
   "metadata": {},
   "outputs": [],
   "source": [
    "# list of volume names\n",
    "file_name_list"
   ]
  },
  {
   "cell_type": "markdown",
   "metadata": {},
   "source": [
    "# Get List of Issue Links and Names"
   ]
  },
  {
   "cell_type": "code",
   "execution_count": null,
   "metadata": {},
   "outputs": [],
   "source": [
    "# create empty lists for issue links and names\n",
    "issue_href_list = []\n",
    "issue_name_list = []\n",
    "\n",
    "# for loop that isolates href contents and file names and appends to empty lists\n",
    "for thing in href_list:\n",
    "    issue_page = requests.get(thing)\n",
    "    issue_soup = BeautifulSoup(issue_page.text, 'html.parser')\n",
    "    issue_url_names = issue_soup.find('ol')\n",
    "    issue_items = issue_url_names.find_all('a')\n",
    "    for thing in issue_items:\n",
    "        links = thing.get('href')\n",
    "        \n",
    "        issue_href_list.append(links)\n",
    "        name_list = thing.contents[1]\n",
    "        name_list = name_list.contents[0]\n",
    "        combined_name = \"Notre Dame Alumnus \" + name_list\n",
    "        issue_name_list.append(combined_name)"
   ]
  },
  {
   "cell_type": "code",
   "execution_count": null,
   "metadata": {},
   "outputs": [],
   "source": [
    "# list of issue links (end of url)\n",
    "issue_href_list"
   ]
  },
  {
   "cell_type": "code",
   "execution_count": null,
   "metadata": {},
   "outputs": [],
   "source": [
    "# list of issue names\n",
    "issue_name_list"
   ]
  },
  {
   "cell_type": "code",
   "execution_count": null,
   "metadata": {},
   "outputs": [],
   "source": [
    "# concatenate full url from issue_href_list\n",
    "\n",
    "full_href_list = []\n",
    "\n",
    "for thing in issue_href_list:\n",
    "    if thing.startswith(\"VOL_0001\"):\n",
    "        full_href_list.append(\"http://www.archives.nd.edu/Alumnus/VOL_0001/\" + thing)\n",
    "    elif thing.startswith(\"VOL_0002\"):\n",
    "        full_href_list.append(\"http://www.archives.nd.edu/Alumnus/VOL_0002/\" + thing)\n",
    "    elif thing.startswith(\"VOL_0003\"):\n",
    "        full_href_list.append(\"http://www.archives.nd.edu/Alumnus/VOL_0003/\" + thing)\n",
    "    elif thing.startswith(\"VOL_0004\"):\n",
    "        full_href_list.append(\"http://www.archives.nd.edu/Alumnus/VOL_0004/\" + thing)\n",
    "    elif thing.startswith(\"VOL_0005\"):\n",
    "        full_href_list.append(\"http://www.archives.nd.edu/Alumnus/VOL_0005/\" + thing)\n",
    "    elif thing.startswith(\"VOL_0006\"):\n",
    "        full_href_list.append(\"http://www.archives.nd.edu/Alumnus/VOL_0006/\" + thing)\n",
    "    elif thing.startswith(\"VOL_0007\"):\n",
    "        full_href_list.append(\"http://www.archives.nd.edu/Alumnus/VOL_0007/\" + thing)\n",
    "    elif thing.startswith(\"VOL_0008\"):\n",
    "        full_href_list.append(\"http://www.archives.nd.edu/Alumnus/VOL_0008/\" + thing)\n",
    "    elif thing.startswith(\"VOL_0009\"):\n",
    "        full_href_list.append(\"http://www.archives.nd.edu/Alumnus/VOL_0009/\" + thing)\n",
    "    elif thing.startswith(\"VOL_0010\"):\n",
    "        full_href_list.append(\"http://www.archives.nd.edu/Alumnus/VOL_0010/\" + thing)\n",
    "    elif thing.startswith(\"VOL_0011\"):\n",
    "        full_href_list.append(\"http://www.archives.nd.edu/Alumnus/VOL_0011/\" + thing)\n",
    "    elif thing.startswith(\"VOL_0012\"):\n",
    "        full_href_list.append(\"http://www.archives.nd.edu/Alumnus/VOL_0012/\" + thing)\n",
    "    elif thing.startswith(\"VOL_0013\"):\n",
    "        full_href_list.append(\"http://www.archives.nd.edu/Alumnus/VOL_0013/\" + thing)\n",
    "    elif thing.startswith(\"VOL_0014\"):\n",
    "        full_href_list.append(\"http://www.archives.nd.edu/Alumnus/VOL_0014/\" + thing)\n",
    "    elif thing.startswith(\"VOL_0015\"):\n",
    "        full_href_list.append(\"http://www.archives.nd.edu/Alumnus/VOL_0015/\" + thing)\n",
    "    elif thing.startswith(\"VOL_0016\"):\n",
    "        full_href_list.append(\"http://www.archives.nd.edu/Alumnus/VOL_0016/\" + thing)\n",
    "    elif thing.startswith(\"VOL_0017\"):\n",
    "        full_href_list.append(\"http://www.archives.nd.edu/Alumnus/VOL_0017/\" + thing)\n",
    "    elif thing.startswith(\"VOL_0018\"):\n",
    "        full_href_list.append(\"http://www.archives.nd.edu/Alumnus/VOL_0018/\" + thing)\n",
    "    elif thing.startswith(\"VOL_0019\"):\n",
    "        full_href_list.append(\"http://www.archives.nd.edu/Alumnus/VOL_0019/\" + thing)\n",
    "    elif thing.startswith(\"VOL_0020\"):\n",
    "        full_href_list.append(\"http://www.archives.nd.edu/Alumnus/VOL_0020/\" + thing)\n",
    "    elif thing.startswith(\"VOL_0021\"):\n",
    "        full_href_list.append(\"http://www.archives.nd.edu/Alumnus/VOL_0021/\" + thing)\n",
    "    elif thing.startswith(\"VOL_0022\"):\n",
    "        full_href_list.append(\"http://www.archives.nd.edu/Alumnus/VOL_0022/\" + thing)\n",
    "    elif thing.startswith(\"VOL_0023\"):\n",
    "        full_href_list.append(\"http://www.archives.nd.edu/Alumnus/VOL_0023/\" + thing)\n",
    "    elif thing.startswith(\"VOL_0024\"):\n",
    "        full_href_list.append(\"http://www.archives.nd.edu/Alumnus/VOL_0024/\" + thing)\n",
    "    elif thing.startswith(\"VOL_0025\"):\n",
    "        full_href_list.append(\"http://www.archives.nd.edu/Alumnus/VOL_0025/\" + thing)\n",
    "    elif thing.startswith(\"VOL_0026\"):\n",
    "        full_href_list.append(\"http://www.archives.nd.edu/Alumnus/VOL_0026/\" + thing)\n",
    "    elif thing.startswith(\"VOL_0027\"):\n",
    "        full_href_list.append(\"http://www.archives.nd.edu/Alumnus/VOL_0027/\" + thing)\n",
    "    elif thing.startswith(\"VOL_0028\"):\n",
    "        full_href_list.append(\"http://www.archives.nd.edu/Alumnus/VOL_0028/\" + thing)\n",
    "    elif thing.startswith(\"VOL_0029\"):\n",
    "        full_href_list.append(\"http://www.archives.nd.edu/Alumnus/VOL_0029/\" + thing)\n",
    "    elif thing.startswith(\"VOL_0030\"):\n",
    "        full_href_list.append(\"http://www.archives.nd.edu/Alumnus/VOL_0030/\" + thing)\n",
    "    elif thing.startswith(\"VOL_0031\"):\n",
    "        full_href_list.append(\"http://www.archives.nd.edu/Alumnus/VOL_0031/\" + thing)\n",
    "    elif thing.startswith(\"VOL_0032\"):\n",
    "        full_href_list.append(\"http://www.archives.nd.edu/Alumnus/VOL_0032/\" + thing)\n",
    "    elif thing.startswith(\"VOL_0033\"):\n",
    "        full_href_list.append(\"http://www.archives.nd.edu/Alumnus/VOL_0033/\" + thing)\n",
    "    elif thing.startswith(\"VOL_0034\"):\n",
    "        full_href_list.append(\"http://www.archives.nd.edu/Alumnus/VOL_0034/\" + thing)\n",
    "    elif thing.startswith(\"VOL_0035\"):\n",
    "        full_href_list.append(\"http://www.archives.nd.edu/Alumnus/VOL_0035/\" + thing)\n",
    "    elif thing.startswith(\"VOL_0036\"):\n",
    "        full_href_list.append(\"http://www.archives.nd.edu/Alumnus/VOL_0036/\" + thing)\n",
    "    elif thing.startswith(\"VOL_0037\"):\n",
    "        full_href_list.append(\"http://www.archives.nd.edu/Alumnus/VOL_0037/\" + thing)\n",
    "    elif thing.startswith(\"VOL_0038\"):\n",
    "        full_href_list.append(\"http://www.archives.nd.edu/Alumnus/VOL_0038/\" + thing)\n",
    "    elif thing.startswith(\"VOL_0039\"):\n",
    "        full_href_list.append(\"http://www.archives.nd.edu/Alumnus/VOL_0039/\" + thing)\n",
    "    elif thing.startswith(\"VOL_0040\"):\n",
    "        full_href_list.append(\"http://www.archives.nd.edu/Alumnus/VOL_0040/\" + thing)\n",
    "    elif thing.startswith(\"VOL_0041\"):\n",
    "        full_href_list.append(\"http://www.archives.nd.edu/Alumnus/VOL_0041/\" + thing)\n",
    "    elif thing.startswith(\"VOL_0042\"):\n",
    "        full_href_list.append(\"http://www.archives.nd.edu/Alumnus/VOL_0042/\" + thing)\n",
    "    elif thing.startswith(\"VOL_0043\"):\n",
    "        full_href_list.append(\"http://www.archives.nd.edu/Alumnus/VOL_0043/\" + thing)\n",
    "    elif thing.startswith(\"VOL_0044\"):\n",
    "        full_href_list.append(\"http://www.archives.nd.edu/Alumnus/VOL_0044/\" + thing)\n",
    "    elif thing.startswith(\"VOL_0045\"):\n",
    "        full_href_list.append(\"http://www.archives.nd.edu/Alumnus/VOL_0045/\" + thing)\n",
    "    elif thing.startswith(\"VOL_0046\"):\n",
    "        full_href_list.append(\"http://www.archives.nd.edu/Alumnus/VOL_0046/\" + thing)\n",
    "    elif thing.startswith(\"VOL_0047\"):\n",
    "        full_href_list.append(\"http://www.archives.nd.edu/Alumnus/VOL_0047/\" + thing)\n",
    "    elif thing.startswith(\"VOL_0048\"):\n",
    "        full_href_list.append(\"http://www.archives.nd.edu/Alumnus/VOL_0048/\" + thing)\n",
    "    elif thing.startswith(\"VOL_0049\"):\n",
    "        full_href_list.append(\"http://www.archives.nd.edu/Alumnus/VOL_0049/\" + thing)"
   ]
  },
  {
   "cell_type": "code",
   "execution_count": null,
   "metadata": {},
   "outputs": [],
   "source": [
    "# list of full issue urls\n",
    "full_href_list"
   ]
  },
  {
   "cell_type": "markdown",
   "metadata": {},
   "source": [
    "# Download PDFs from List of Full URLs"
   ]
  },
  {
   "cell_type": "code",
   "execution_count": null,
   "metadata": {},
   "outputs": [],
   "source": [
    "# import libraries\n",
    "import urllib3\n",
    "import os\n",
    "\n",
    "# configure urllib\n",
    "http = urllib3.PoolManager()\n",
    "print(\"downloading with urllib\")\n",
    "\n",
    "# for loop that downloads PDF for each url in full_href_list\n",
    "for url in full_href_list:\n",
    "    r = http.request('GET', url)\n",
    "    filename = os.path.basename(url)\n",
    "    with open (filename, 'wb') as fcont:\n",
    "        fcont.write(r.data)"
   ]
  },
  {
   "cell_type": "markdown",
   "metadata": {},
   "source": [
    "# Matching File Names and Volume/Issue Info"
   ]
  },
  {
   "cell_type": "code",
   "execution_count": null,
   "metadata": {},
   "outputs": [],
   "source": [
    "# import pandas\n",
    "import pandas as pd\n",
    "\n",
    "# create dataframe \n",
    "df = pd.DataFrame(columns=['file_names', 'doc_title'])\n",
    "\n",
    "# write file names to column\n",
    "df['file_names'] = issue_href_list\n",
    "\n",
    "# write document titles to column\n",
    "df['doc_title'] = issue_name_list\n",
    "\n",
    "# output dataframe\n",
    "df"
   ]
  },
  {
   "cell_type": "code",
   "execution_count": null,
   "metadata": {},
   "outputs": [],
   "source": [
    "# write dataframe to csv file\n",
    "df.to_csv('alumnus_file_name_master.csv', index=False)"
   ]
  }
 ],
 "metadata": {
  "kernelspec": {
   "display_name": "Python 3",
   "language": "python",
   "name": "python3"
  },
  "language_info": {
   "codemirror_mode": {
    "name": "ipython",
    "version": 3
   },
   "file_extension": ".py",
   "mimetype": "text/x-python",
   "name": "python",
   "nbconvert_exporter": "python",
   "pygments_lexer": "ipython3",
   "version": "3.8.8"
  }
 },
 "nbformat": 4,
 "nbformat_minor": 4
}
